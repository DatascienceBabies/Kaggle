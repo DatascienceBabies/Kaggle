{
 "cells": [
  {
   "cell_type": "code",
   "execution_count": 14,
   "metadata": {},
   "outputs": [],
   "source": [
    "from keras.models import Sequential\n",
    "from keras.layers import Dense, Activation\n",
    "import csv\n",
    "import numpy as np\n",
    "import random\n",
    "from sklearn.preprocessing import StandardScaler\n",
    "import pandas as pd"
   ]
  },
  {
   "cell_type": "code",
   "execution_count": 2,
   "metadata": {},
   "outputs": [],
   "source": [
    "def ReadCsvFile(path):\n",
    "    # Reads a csv file and returns 1d numpy array of labels, 2d numpy array of data\n",
    "\n",
    "    labels = []\n",
    "    data = []\n",
    "    with open(path) as file:\n",
    "        reader = csv.reader(file, delimiter=',')\n",
    "        line_count = 0\n",
    "        for row in reader:\n",
    "            if line_count == 0:\n",
    "                # Column names\n",
    "                labels = row\n",
    "            else:\n",
    "                # Data\n",
    "                data.append(row)\n",
    "            line_count += 1\n",
    "    \n",
    "    labels = np.array(labels)\n",
    "    data = np.array(data)\n",
    "    \n",
    "    return labels, data"
   ]
  },
  {
   "cell_type": "code",
   "execution_count": 3,
   "metadata": {},
   "outputs": [],
   "source": [
    "# Load data\n",
    "labels, train_x = ReadCsvFile(\"train.csv\")\n",
    "train_y = train_x[:, 1]\n",
    "\n",
    "_, test_x = ReadCsvFile(\"test.csv\")"
   ]
  },
  {
   "cell_type": "code",
   "execution_count": 4,
   "metadata": {},
   "outputs": [],
   "source": [
    "# Convert male/female to numbers\n",
    "train_x[:, 4] = np.where(train_x[:, 4] == \"male\", 1, 0)\n",
    "test_x[:, 3] = np.where(test_x[:, 3] == \"male\", 1, 0)"
   ]
  },
  {
   "cell_type": "code",
   "execution_count": 5,
   "metadata": {},
   "outputs": [],
   "source": [
    "# Set a random age where none exist\n",
    "train_x[:, 5] = np.where(train_x[:, 5] == '', random.random() * 60, train_x[:, 5])\n",
    "test_x[:, 4] = np.where(test_x[:, 4] == '', random.random() * 60, test_x[:, 4])"
   ]
  },
  {
   "cell_type": "code",
   "execution_count": 6,
   "metadata": {},
   "outputs": [],
   "source": [
    "# Save test passenger IDs for submission later\n",
    "test_passenger_ids = np.reshape(test_x[:, 0], (test_x.shape[0], 1))"
   ]
  },
  {
   "cell_type": "code",
   "execution_count": 7,
   "metadata": {},
   "outputs": [],
   "source": [
    "# Filter any uninteresting data\n",
    "train_x = train_x[:, [2, 4, 5, 6, 7]]\n",
    "test_x = test_x[:, [1, 3, 4, 5, 6]]\n",
    "labels = labels[[2, 4, 5, 6, 7]]"
   ]
  },
  {
   "cell_type": "code",
   "execution_count": 8,
   "metadata": {},
   "outputs": [],
   "source": [
    "# Convert to float\n",
    "train_x = train_x.astype(np.float)\n",
    "train_y = train_y.astype(np.float)\n",
    "test_x = test_x.astype(np.float)"
   ]
  },
  {
   "cell_type": "code",
   "execution_count": 9,
   "metadata": {},
   "outputs": [],
   "source": [
    "# Standardize the value ranges\n",
    "scaler = StandardScaler().fit(train_x)\n",
    "train_x = scaler.transform(train_x)\n",
    "test_x = scaler.transform(test_x)"
   ]
  },
  {
   "cell_type": "code",
   "execution_count": 10,
   "metadata": {},
   "outputs": [
    {
     "name": "stdout",
     "output_type": "stream",
     "text": [
      "WARNING:tensorflow:From D:\\Programs\\Anaconda3\\lib\\site-packages\\tensorflow\\python\\framework\\op_def_library.py:263: colocate_with (from tensorflow.python.framework.ops) is deprecated and will be removed in a future version.\n",
      "Instructions for updating:\n",
      "Colocations handled automatically by placer.\n"
     ]
    }
   ],
   "source": [
    "# Define binary classification model\n",
    "model = Sequential()\n",
    "model.add(Dense(32, activation='relu', input_dim=train_x.shape[1]))\n",
    "model.add(Dense(1, activation='sigmoid'))\n",
    "model.compile(optimizer='rmsprop',\n",
    "              loss='binary_crossentropy',\n",
    "              metrics=['accuracy'])"
   ]
  },
  {
   "cell_type": "code",
   "execution_count": 11,
   "metadata": {},
   "outputs": [
    {
     "name": "stdout",
     "output_type": "stream",
     "text": [
      "WARNING:tensorflow:From D:\\Programs\\Anaconda3\\lib\\site-packages\\tensorflow\\python\\ops\\math_ops.py:3066: to_int32 (from tensorflow.python.ops.math_ops) is deprecated and will be removed in a future version.\n",
      "Instructions for updating:\n",
      "Use tf.cast instead.\n",
      "Epoch 1/20\n",
      "891/891 [==============================] - 2s 2ms/step - loss: 0.6818 - acc: 0.5791\n",
      "Epoch 2/20\n",
      "891/891 [==============================] - 0s 107us/step - loss: 0.6030 - acc: 0.7385\n",
      "Epoch 3/20\n",
      "891/891 [==============================] - 0s 105us/step - loss: 0.5492 - acc: 0.7800\n",
      "Epoch 4/20\n",
      "891/891 [==============================] - 0s 100us/step - loss: 0.5088 - acc: 0.8025\n",
      "Epoch 5/20\n",
      "891/891 [==============================] - 0s 97us/step - loss: 0.4803 - acc: 0.8103: 0s - loss: 0.4915 - acc: 0.800\n",
      "Epoch 6/20\n",
      "891/891 [==============================] - 0s 97us/step - loss: 0.4609 - acc: 0.8103\n",
      "Epoch 7/20\n",
      "891/891 [==============================] - 0s 97us/step - loss: 0.4482 - acc: 0.8126\n",
      "Epoch 8/20\n",
      "891/891 [==============================] - 0s 97us/step - loss: 0.4394 - acc: 0.8092\n",
      "Epoch 9/20\n",
      "891/891 [==============================] - 0s 98us/step - loss: 0.4334 - acc: 0.8114\n",
      "Epoch 10/20\n",
      "891/891 [==============================] - 0s 97us/step - loss: 0.4292 - acc: 0.8092\n",
      "Epoch 11/20\n",
      "891/891 [==============================] - 0s 95us/step - loss: 0.4261 - acc: 0.8126\n",
      "Epoch 12/20\n",
      "891/891 [==============================] - 0s 98us/step - loss: 0.4237 - acc: 0.8171\n",
      "Epoch 13/20\n",
      "891/891 [==============================] - 0s 166us/step - loss: 0.4215 - acc: 0.8193\n",
      "Epoch 14/20\n",
      "891/891 [==============================] - 0s 101us/step - loss: 0.4203 - acc: 0.8193\n",
      "Epoch 15/20\n",
      "891/891 [==============================] - 0s 97us/step - loss: 0.4189 - acc: 0.8215\n",
      "Epoch 16/20\n",
      "891/891 [==============================] - 0s 98us/step - loss: 0.4177 - acc: 0.8215\n",
      "Epoch 17/20\n",
      "891/891 [==============================] - 0s 110us/step - loss: 0.4170 - acc: 0.8215\n",
      "Epoch 18/20\n",
      "891/891 [==============================] - 0s 110us/step - loss: 0.4158 - acc: 0.8215\n",
      "Epoch 19/20\n",
      "891/891 [==============================] - 0s 103us/step - loss: 0.4150 - acc: 0.8238\n",
      "Epoch 20/20\n",
      "891/891 [==============================] - 0s 104us/step - loss: 0.4141 - acc: 0.8227\n"
     ]
    },
    {
     "data": {
      "text/plain": [
       "<keras.callbacks.History at 0x1e98cab3e10>"
      ]
     },
     "execution_count": 11,
     "metadata": {},
     "output_type": "execute_result"
    }
   ],
   "source": [
    "# Train the model, iterating on the data in batches of 32 samples\n",
    "model.fit(train_x, train_y, epochs=20, batch_size=32)"
   ]
  },
  {
   "cell_type": "code",
   "execution_count": 12,
   "metadata": {},
   "outputs": [],
   "source": [
    "# Run the model against the test data\n",
    "predict_y = model.predict(test_x)\n",
    "predict_y = np.around(predict_y)\n",
    "predict_y = predict_y.astype(np.integer)"
   ]
  },
  {
   "cell_type": "code",
   "execution_count": 13,
   "metadata": {},
   "outputs": [],
   "source": [
    "# Write our predictions to a csv file\n",
    "csv_predict = np.concatenate((test_passenger_ids, predict_y), axis=1)\n",
    "csv_predict = np.concatenate((np.reshape([\"PassengerId\", \"Survived\"], (1, 2)), csv_predict))\n",
    "with open('prediction.csv', 'w', newline='') as csvFile:\n",
    "    writer = csv.writer(csvFile)\n",
    "    writer.writerows(csv_predict)\n",
    "csvFile.close()"
   ]
  }
 ],
 "metadata": {
  "kernelspec": {
   "display_name": "Python 3",
   "language": "python",
   "name": "python3"
  },
  "language_info": {
   "codemirror_mode": {
    "name": "ipython",
    "version": 3
   },
   "file_extension": ".py",
   "mimetype": "text/x-python",
   "name": "python",
   "nbconvert_exporter": "python",
   "pygments_lexer": "ipython3",
   "version": "3.7.1"
  }
 },
 "nbformat": 4,
 "nbformat_minor": 2
}
