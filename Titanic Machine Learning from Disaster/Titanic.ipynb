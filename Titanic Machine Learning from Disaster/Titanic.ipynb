{
 "cells": [
  {
   "cell_type": "code",
   "execution_count": 112,
   "metadata": {},
   "outputs": [],
   "source": [
    "from keras.models import Sequential\n",
    "from keras.layers import Dense, Activation, Dropout\n",
    "import csv\n",
    "import numpy as np\n",
    "import random\n",
    "import pandas as pd\n",
    "from sklearn.preprocessing import LabelEncoder\n",
    "from sklearn.preprocessing import OneHotEncoder\n",
    "import math\n",
    "from matplotlib import pyplot as plt\n",
    "import collections\n",
    "import Dataset as ds\n",
    "import DatasetModifier as dsm\n",
    "import Classifications as classifications"
   ]
  },
  {
   "cell_type": "code",
   "execution_count": 113,
   "metadata": {},
   "outputs": [],
   "source": [
    "# Load the train/test dataset\n",
    "dataset = ds.Dataset(is_train_data = True)\n",
    "dataset.load_dataset_from_csv('train.csv')"
   ]
  },
  {
   "cell_type": "code",
   "execution_count": 114,
   "metadata": {},
   "outputs": [],
   "source": [
    "# Load the prediction dataset\n",
    "dataset_prediction = ds.Dataset(is_train_data = False)\n",
    "dataset_prediction.load_dataset_from_csv('test.csv')"
   ]
  },
  {
   "cell_type": "code",
   "execution_count": 115,
   "metadata": {},
   "outputs": [],
   "source": [
    "datasetModifier = dsm.DatasetModifier()\n",
    "datasetModifier.dataset_randomize()"
   ]
  },
  {
   "cell_type": "code",
   "execution_count": 116,
   "metadata": {},
   "outputs": [],
   "source": [
    "def extract_title_from_name(row):\n",
    "    return row['Name'].split(',')[1].split('.')[0].strip()"
   ]
  },
  {
   "cell_type": "code",
   "execution_count": 117,
   "metadata": {},
   "outputs": [],
   "source": [
    "# Define the parameter creation steps\n",
    "datasetModifier.dataset_fill_missing_value_based_on_criteria('Age', ['Sex', 'Pclass'])\n",
    "#datasetModifier.dataset_categorize_number('Age', [['0', 0, 16], ['1', 16, 32], ['2', 32, 48], ['3', 48, 64], ['4', 64, math.inf]])\n",
    "datasetModifier.dataset_categorize_number('Age', [['infant', 0, 2], ['child', 2, 10], ['teenager', 10, 18], ['youngadult', 18, 30], ['midlife', 30, 50], ['oldfart', 50, math.inf]])\n",
    "#datasetModifier.dataset_fill_missing_value('Age')\n",
    "datasetModifier.add_X_parameter('Age')\n",
    "datasetModifier.one_hot_X_parameter('Age')\n",
    "\n",
    "datasetModifier.add_X_parameter('Sex')\n",
    "datasetModifier.one_hot_X_parameter('Sex')\n",
    "\n",
    "datasetModifier.dataset_fill_missing_value('Fare')\n",
    "#datasetModifier.dataset_categorize_number('Fare', [['poor feck', 0, 10], ['middle class', 10, 50], ['richy rich', 50, math.inf]])\n",
    "datasetModifier.add_X_parameter('Fare')\n",
    "#datasetModifier.one_hot_X_parameter('Fare')\n",
    "\n",
    "datasetModifier.dataset_add_new_feature_based_on_existing('FamilySize', ['SibSp', 'Parch'])\n",
    "datasetModifier.add_X_parameter('FamilySize')\n",
    "\n",
    "datasetModifier.dataset_add_new_feature_based_on_custom_function('Title', extract_title_from_name)\n",
    "datasetModifier.add_X_parameter('Title')\n",
    "datasetModifier.one_hot_X_parameter('Title')\n",
    "\n",
    "#datasetModifier.standardize_X(dataset)\n",
    "\n",
    "datasetModifier.add_Y_parameter('Survived')"
   ]
  },
  {
   "cell_type": "code",
   "execution_count": 118,
   "metadata": {
    "scrolled": false
   },
   "outputs": [],
   "source": [
    "# Apply the parameter creation steps to the two datasets\n",
    "datasetModifier.generate_dataset(dataset)"
   ]
  },
  {
   "cell_type": "code",
   "execution_count": 119,
   "metadata": {},
   "outputs": [],
   "source": [
    "train_X, test_X, train_Y, test_Y = dataset.get_train_test_set(0.2, random_state=42)"
   ]
  },
  {
   "cell_type": "code",
   "execution_count": 120,
   "metadata": {},
   "outputs": [],
   "source": [
    "# Fetch the predict set data\n",
    "datasetModifier.generate_dataset(dataset_prediction)\n",
    "predict_X = dataset_prediction.X\n",
    "test_passenger_ids = dataset_prediction.get_dataset_parameter('PassengerId')\n",
    "test_passenger_ids = np.reshape(test_passenger_ids.values, (test_passenger_ids.shape[0], 1))"
   ]
  },
  {
   "cell_type": "code",
   "execution_count": 121,
   "metadata": {},
   "outputs": [],
   "source": [
    "clf = classifications.Classifications()\n",
    "#clf.find_svm_linear_params(train_X, train_Y)\n",
    "#clf.find_svm_kernel_params(train_X, train_Y)\n",
    "#clf.randomized_random_forest_parameter_search(train_X, train_Y)\n",
    "#clf.grid_search_for_params(train_X, train_Y.reshape(-1, 1), ['sqrt'], [5500, 6000, 6500, 7000], [8, 9, 10, 20, 50], [4, 4, 5], [3, 4, 5], [False])"
   ]
  },
  {
   "cell_type": "code",
   "execution_count": 122,
   "metadata": {},
   "outputs": [],
   "source": [
    "clf.add_logistic_regression(cross_validation=7, rnd_state=12, max_iter=1000)\n",
    "clf.add_linear_svm(8.886238162743407)\n",
    "clf.add_rbf_svm(8.886238162743407, 0.04124626382901352)\n",
    "clf.add_naive_bayes()\n",
    "clf.add_classification_tree(depth=6)\n",
    "#clf.add_random_forest(max_features='sqrt', max_depth=8, n_estimators=5500, min_samples_split=4, min_samples_leaf=3, bootstrap=False)\n",
    "clf.add_random_forest(max_depth=5, n_estimators=10, max_features=1)\n",
    "clf.add_k_neighbors()\n",
    "clf.add_gaussian_proccess()\n",
    "clf.add_mlp()\n",
    "clf.add_ada_boost()\n",
    "clf.add_quadratic_discriminant_analysis()"
   ]
  },
  {
   "cell_type": "code",
   "execution_count": 123,
   "metadata": {
    "scrolled": true
   },
   "outputs": [
    {
     "name": "stdout",
     "output_type": "stream",
     "text": [
      "Logistic Regression scored 0.8156424581005587\n",
      "Linear SVM scored 0.8268156424581006\n",
      "RBF SVM scored 0.7932960893854749\n",
      "Naive Bayes scored 0.776536312849162\n",
      "Classification Tree scored 0.8268156424581006\n",
      "Random Forest scored 0.8044692737430168\n",
      "K Neighbors scored 0.7486033519553073\n",
      "Gaussian Process scored 0.8156424581005587\n",
      "MLP scored 0.8044692737430168\n",
      "ADA Boost scored 0.8044692737430168\n",
      "Quadratic Discriminant Analaysis scored 0.664804469273743\n",
      "Best Model is: Linear SVM with a score of 0.8268156424581006 - will continue with this\n"
     ]
    },
    {
     "name": "stderr",
     "output_type": "stream",
     "text": [
      "D:\\Programs\\Anaconda3\\lib\\site-packages\\sklearn\\discriminant_analysis.py:692: UserWarning: Variables are collinear\n",
      "  warnings.warn(\"Variables are collinear\")\n"
     ]
    }
   ],
   "source": [
    "best_algorithm = clf.find_best_algorithm(train_X, train_Y, test_X, test_Y)"
   ]
  },
  {
   "cell_type": "markdown",
   "metadata": {},
   "source": [
    "# Predict Model"
   ]
  },
  {
   "cell_type": "code",
   "execution_count": 124,
   "metadata": {},
   "outputs": [],
   "source": [
    "# Run the model against the test data\n",
    "predict_Y = best_algorithm.predict(predict_X)\n",
    "predict_Y = np.around(predict_Y)\n",
    "predict_Y = predict_Y.astype(np.integer)\n",
    "predict_Y = np.reshape(predict_Y, (predict_Y.shape[0], 1))"
   ]
  },
  {
   "cell_type": "code",
   "execution_count": 125,
   "metadata": {},
   "outputs": [],
   "source": [
    "csv_predict = np.concatenate((test_passenger_ids, predict_Y), axis=1)\n",
    "csv_predict = np.concatenate((np.reshape([\"PassengerId\", \"Survived\"], (1, 2)), csv_predict))\n",
    "with open('prediction.csv', 'w', newline='') as csvFile:\n",
    "    writer = csv.writer(csvFile)\n",
    "    writer.writerows(csv_predict)\n",
    "csvFile.close()"
   ]
  }
 ],
 "metadata": {
  "kernelspec": {
   "display_name": "Python 3",
   "language": "python",
   "name": "python3"
  },
  "language_info": {
   "codemirror_mode": {
    "name": "ipython",
    "version": 3
   },
   "file_extension": ".py",
   "mimetype": "text/x-python",
   "name": "python",
   "nbconvert_exporter": "python",
   "pygments_lexer": "ipython3",
   "version": "3.7.1"
  }
 },
 "nbformat": 4,
 "nbformat_minor": 2
}
